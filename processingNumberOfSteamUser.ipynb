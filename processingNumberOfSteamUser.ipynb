{
 "cells": [
  {
   "cell_type": "code",
   "execution_count": 1,
   "id": "8a9854a8",
   "metadata": {},
   "outputs": [],
   "source": [
    "import numpy as np\n",
    "import pandas as pd"
   ]
  },
  {
   "cell_type": "code",
   "execution_count": 4,
   "id": "dd6f2143",
   "metadata": {},
   "outputs": [],
   "source": [
    "steam_dataset = pd.read_csv('dataset/steam_users.csv')"
   ]
  },
  {
   "cell_type": "code",
   "execution_count": 5,
   "id": "0fc6f702",
   "metadata": {},
   "outputs": [
    {
     "data": {
      "text/html": [
       "<div>\n",
       "<style scoped>\n",
       "    .dataframe tbody tr th:only-of-type {\n",
       "        vertical-align: middle;\n",
       "    }\n",
       "\n",
       "    .dataframe tbody tr th {\n",
       "        vertical-align: top;\n",
       "    }\n",
       "\n",
       "    .dataframe thead th {\n",
       "        text-align: right;\n",
       "    }\n",
       "</style>\n",
       "<table border=\"1\" class=\"dataframe\">\n",
       "  <thead>\n",
       "    <tr style=\"text-align: right;\">\n",
       "      <th></th>\n",
       "      <th>DateTime</th>\n",
       "      <th>Users</th>\n",
       "      <th>Average Users</th>\n",
       "      <th>In_Game</th>\n",
       "    </tr>\n",
       "  </thead>\n",
       "  <tbody>\n",
       "    <tr>\n",
       "      <th>0</th>\n",
       "      <td>2004-01-13 00:00:00</td>\n",
       "      <td>84998.0</td>\n",
       "      <td>NaN</td>\n",
       "      <td>NaN</td>\n",
       "    </tr>\n",
       "    <tr>\n",
       "      <th>1</th>\n",
       "      <td>2004-01-14 00:00:00</td>\n",
       "      <td>NaN</td>\n",
       "      <td>NaN</td>\n",
       "      <td>NaN</td>\n",
       "    </tr>\n",
       "    <tr>\n",
       "      <th>2</th>\n",
       "      <td>2004-01-15 00:00:00</td>\n",
       "      <td>NaN</td>\n",
       "      <td>NaN</td>\n",
       "      <td>NaN</td>\n",
       "    </tr>\n",
       "    <tr>\n",
       "      <th>3</th>\n",
       "      <td>2004-01-16 00:00:00</td>\n",
       "      <td>NaN</td>\n",
       "      <td>NaN</td>\n",
       "      <td>NaN</td>\n",
       "    </tr>\n",
       "    <tr>\n",
       "      <th>4</th>\n",
       "      <td>2004-01-17 00:00:00</td>\n",
       "      <td>NaN</td>\n",
       "      <td>NaN</td>\n",
       "      <td>NaN</td>\n",
       "    </tr>\n",
       "    <tr>\n",
       "      <th>...</th>\n",
       "      <td>...</td>\n",
       "      <td>...</td>\n",
       "      <td>...</td>\n",
       "      <td>...</td>\n",
       "    </tr>\n",
       "    <tr>\n",
       "      <th>9298</th>\n",
       "      <td>2025-04-16 07:50:00</td>\n",
       "      <td>24523481.0</td>\n",
       "      <td>NaN</td>\n",
       "      <td>5615656.0</td>\n",
       "    </tr>\n",
       "    <tr>\n",
       "      <th>9299</th>\n",
       "      <td>2025-04-16 08:00:00</td>\n",
       "      <td>24721905.0</td>\n",
       "      <td>28541891.0</td>\n",
       "      <td>5846647.0</td>\n",
       "    </tr>\n",
       "    <tr>\n",
       "      <th>9300</th>\n",
       "      <td>2025-04-16 08:10:00</td>\n",
       "      <td>24888362.0</td>\n",
       "      <td>NaN</td>\n",
       "      <td>5846647.0</td>\n",
       "    </tr>\n",
       "    <tr>\n",
       "      <th>9301</th>\n",
       "      <td>2025-04-16 08:20:00</td>\n",
       "      <td>25084817.0</td>\n",
       "      <td>NaN</td>\n",
       "      <td>5846647.0</td>\n",
       "    </tr>\n",
       "    <tr>\n",
       "      <th>9302</th>\n",
       "      <td>2025-04-16 08:30:00</td>\n",
       "      <td>25279906.0</td>\n",
       "      <td>28541891.0</td>\n",
       "      <td>5846647.0</td>\n",
       "    </tr>\n",
       "  </tbody>\n",
       "</table>\n",
       "<p>9303 rows × 4 columns</p>\n",
       "</div>"
      ],
      "text/plain": [
       "                 DateTime       Users  Average Users    In_Game\n",
       "0     2004-01-13 00:00:00     84998.0            NaN        NaN\n",
       "1     2004-01-14 00:00:00         NaN            NaN        NaN\n",
       "2     2004-01-15 00:00:00         NaN            NaN        NaN\n",
       "3     2004-01-16 00:00:00         NaN            NaN        NaN\n",
       "4     2004-01-17 00:00:00         NaN            NaN        NaN\n",
       "...                   ...         ...            ...        ...\n",
       "9298  2025-04-16 07:50:00  24523481.0            NaN  5615656.0\n",
       "9299  2025-04-16 08:00:00  24721905.0     28541891.0  5846647.0\n",
       "9300  2025-04-16 08:10:00  24888362.0            NaN  5846647.0\n",
       "9301  2025-04-16 08:20:00  25084817.0            NaN  5846647.0\n",
       "9302  2025-04-16 08:30:00  25279906.0     28541891.0  5846647.0\n",
       "\n",
       "[9303 rows x 4 columns]"
      ]
     },
     "execution_count": 5,
     "metadata": {},
     "output_type": "execute_result"
    }
   ],
   "source": [
    "steam_dataset"
   ]
  },
  {
   "cell_type": "code",
   "execution_count": 6,
   "id": "090c7f23",
   "metadata": {},
   "outputs": [
    {
     "name": "stderr",
     "output_type": "stream",
     "text": [
      "C:\\Users\\Jean\\AppData\\Local\\Temp\\ipykernel_23752\\3147346660.py:1: FutureWarning: Series.fillna with 'method' is deprecated and will raise in a future version. Use obj.ffill() or obj.bfill() instead.\n",
      "  steam_dataset['Users'] = steam_dataset['Users'].fillna(method='ffill')\n",
      "C:\\Users\\Jean\\AppData\\Local\\Temp\\ipykernel_23752\\3147346660.py:2: FutureWarning: Series.fillna with 'method' is deprecated and will raise in a future version. Use obj.ffill() or obj.bfill() instead.\n",
      "  steam_dataset['Average Users'] = steam_dataset['Average Users'].fillna(method='bfill')\n",
      "C:\\Users\\Jean\\AppData\\Local\\Temp\\ipykernel_23752\\3147346660.py:3: FutureWarning: Series.fillna with 'method' is deprecated and will raise in a future version. Use obj.ffill() or obj.bfill() instead.\n",
      "  steam_dataset['In_Game'] = steam_dataset['In_Game'].fillna(method='bfill')\n"
     ]
    }
   ],
   "source": [
    "steam_dataset['Users'] = steam_dataset['Users'].fillna(method='ffill') \n",
    "steam_dataset['Average Users'] = steam_dataset['Average Users'].fillna(method='bfill') \n",
    "steam_dataset['In_Game'] = steam_dataset['In_Game'].fillna(method='bfill') "
   ]
  },
  {
   "cell_type": "code",
   "execution_count": 10,
   "id": "d043a847",
   "metadata": {},
   "outputs": [],
   "source": [
    "steam_dataset.to_csv('./my-app/public/assets/steam_user2.csv', index=False)"
   ]
  }
 ],
 "metadata": {
  "kernelspec": {
   "display_name": "slogan",
   "language": "python",
   "name": "python3"
  },
  "language_info": {
   "codemirror_mode": {
    "name": "ipython",
    "version": 3
   },
   "file_extension": ".py",
   "mimetype": "text/x-python",
   "name": "python",
   "nbconvert_exporter": "python",
   "pygments_lexer": "ipython3",
   "version": "3.13.2"
  }
 },
 "nbformat": 4,
 "nbformat_minor": 5
}
